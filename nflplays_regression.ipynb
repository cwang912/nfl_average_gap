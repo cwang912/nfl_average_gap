{
 "metadata": {
  "name": ""
 },
 "nbformat": 3,
 "nbformat_minor": 0,
 "worksheets": [
  {
   "cells": [
    {
     "cell_type": "code",
     "collapsed": false,
     "input": [
      "import pandas as pd\n",
      "import os\n",
      "import pprint\n",
      "\n",
      "cwd = os.getcwd() + '/Data/2012_nfl_pbp_data_reg.csv'\n",
      "\n",
      "data = pd.read_csv(cwd)"
     ],
     "language": "python",
     "metadata": {},
     "outputs": [],
     "prompt_number": 3
    },
    {
     "cell_type": "code",
     "collapsed": false,
     "input": [
      "game_ids = list(set(data.values[:,0]))\n",
      "team_ids = list(set(data.values[:,4]))\n",
      "team_ids = team_ids[1:]"
     ],
     "language": "python",
     "metadata": {},
     "outputs": [],
     "prompt_number": 4
    },
    {
     "cell_type": "code",
     "collapsed": false,
     "input": [
      "season_gap = dict()\n",
      "actual_gap = dict()\n",
      "wins = dict()\n",
      "losses = dict()\n",
      "scores = dict()\n",
      "for i in team_ids:\n",
      "    season_gap[i] = 0\n",
      "    actual_gap[i] = 0\n",
      "    wins[i] = 0\n",
      "    losses[i] = 0\n",
      "    scores[i] = dict()"
     ],
     "language": "python",
     "metadata": {},
     "outputs": [],
     "prompt_number": 5
    },
    {
     "cell_type": "code",
     "collapsed": false,
     "input": [
      "def get_gap(game, wins, losses):\n",
      "    \n",
      "    # initialize values\n",
      "    last_play = game[0,:]\n",
      "    time_passed = 0\n",
      "    [team1,team2] = game[0][4:6] \n",
      "    average_gap = dict()\n",
      "    actual_gap = dict()\n",
      "    total_time = 0\n",
      "    average_gap[team1] = 0\n",
      "    average_gap[team2] = 0\n",
      "    old_score_diff = 0\n",
      "    old_time = 3600\n",
      "\n",
      "    for play in game[1:]:\n",
      "        score_diff = float(play[10])-float(play[11]) # current offense - current defense\n",
      "        if old_score_diff != score_diff: # if the score changed\n",
      "            curr_time = float(play[2])*60 + float(play[3])\n",
      "            time_passed = old_time - curr_time # find that amount of time that passed\n",
      "            old_time = curr_time\n",
      "            offense = play[4]\n",
      "            if team1 == offense: # updated the average gap\n",
      "                average_gap[team1] += time_passed*score_diff\n",
      "                average_gap[team2] += time_passed*-score_diff\n",
      "            elif team2 == offense:\n",
      "                average_gap[team1] += time_passed*-score_diff\n",
      "                average_gap[team2] += time_passed*score_diff\n",
      "    total_time += 3600 - curr_time\n",
      "\n",
      "    average_gap[team1] = average_gap[team1]/total_time \n",
      "    average_gap[team2] = average_gap[team2]/total_time # calculate average gap\n",
      "    \n",
      "    if team1 == offense:\n",
      "        actual_gap[team1] = score_diff\n",
      "        actual_gap[team2] = -score_diff\n",
      "    else:\n",
      "        actual_gap[team1] = -score_diff\n",
      "        actual_gap[team2] = score_diff\n",
      "    if actual_gap[team1] > 0: # if team 1 won\n",
      "        wins[team1] += 1\n",
      "        losses[team2] += 1\n",
      "    elif actual_gap[team2] > 0:\n",
      "        wins[team2] += 1\n",
      "        losses[team1] += 1      \n",
      "    return average_gap, actual_gap, wins, losses"
     ],
     "language": "python",
     "metadata": {},
     "outputs": [],
     "prompt_number": 6
    },
    {
     "cell_type": "code",
     "collapsed": false,
     "input": [
      "for i in game_ids:\n",
      "    game = data.values[data.gameid==i]\n",
      "    average_gap, gap, wins, losses = get_gap(game, wins, losses)\n",
      "    for j in average_gap:\n",
      "        season_gap[j] += average_gap[j]\n",
      "        actual_gap[j] += gap[j]\n"
     ],
     "language": "python",
     "metadata": {},
     "outputs": [],
     "prompt_number": 7
    },
    {
     "cell_type": "code",
     "collapsed": false,
     "input": [
      "import csv\n",
      "with open(\"2012_nfl_gap.csv\", \"wb\") as csvfile:\n",
      "    c = csv.writer(csvfile, delimiter=',')\n",
      "    for i in wins:\n",
      "        c.writerow([i,season_gap[i],actual_gap[i],wins[i]])\n"
     ],
     "language": "python",
     "metadata": {},
     "outputs": [],
     "prompt_number": 17
    }
   ],
   "metadata": {}
  }
 ]
}